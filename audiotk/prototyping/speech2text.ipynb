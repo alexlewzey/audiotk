{
 "cells": [
  {
   "cell_type": "code",
   "execution_count": null,
   "metadata": {},
   "outputs": [],
   "source": [
    "from audiotk.audiotk import *"
   ]
  },
  {
   "cell_type": "markdown",
   "metadata": {},
   "source": [
    "### EDA"
   ]
  },
  {
   "cell_type": "code",
   "execution_count": null,
   "metadata": {},
   "outputs": [],
   "source": [
    "dir_artifacts = Path(\".\").resolve().parent.parent / \"artifacts\"\n",
    "dir_wavs = dir_artifacts / \"audio_example\"\n",
    "paths = list((dir_wavs).glob(\"*.wav\"))\n",
    "df = pd.DataFrame(paths, columns=[\"path\"])\n",
    "df[\"fname\"] = df[\"path\"].apply(lambda p: p.name)\n",
    "df[\"duration_seconds\"] = (\n",
    "    df[\"path\"].apply(lambda p: AudioSegment.from_wav(p).duration_seconds)\n",
    ").round(1)\n",
    "df[\"duration_minutes\"] = (df[\"duration_seconds\"] / 60).round(1)\n",
    "df[\"size_mb\"] = df[\"path\"].apply(lambda p: p.stat().st_size / (1024**2)).round(1)\n",
    "df[\"channels\"] = (df[\"path\"].apply(lambda p: AudioSegment.from_wav(p).channels)).round(\n",
    "    1\n",
    ")\n",
    "df"
   ]
  },
  {
   "cell_type": "code",
   "execution_count": null,
   "metadata": {},
   "outputs": [],
   "source": [
    "path = paths[0]\n",
    "wav = AudioSegment.from_wav(path)\n",
    "sample_rate = wav.frame_rate\n",
    "wav = effects.normalize(wav)\n",
    "samples = np.array(wav.get_array_of_samples())\n",
    "\n",
    "ref_amplitude = 2 ** (8 * wav.sample_width) / 2\n",
    "samples_float = samples / ref_amplitude\n",
    "amplitude_db = 20 * np.log10(np.maximum(np.abs(samples_float), 1e-6))\n",
    "time = np.linspace(0, len(samples) / sample_rate, num=len(samples)) / 60\n",
    "\n",
    "plt.figure(figsize=(30, 4))\n",
    "plt.plot(time, amplitude_db)\n",
    "plt.title(path.name)\n",
    "plt.xlabel(\"Time (seconds)\")\n",
    "plt.ylabel(\"Amplitude (dBFS)\")\n",
    "plt.axhline(-20, c=\"black\", ls=\"--\")\n",
    "plt.grid(True)\n",
    "plt.show()"
   ]
  },
  {
   "cell_type": "code",
   "execution_count": null,
   "metadata": {},
   "outputs": [],
   "source": [
    "speech2text(dir_wavs)"
   ]
  }
 ],
 "metadata": {
  "kernelspec": {
   "display_name": "base",
   "language": "python",
   "name": "python3"
  },
  "language_info": {
   "codemirror_mode": {
    "name": "ipython",
    "version": 3
   },
   "file_extension": ".py",
   "mimetype": "text/x-python",
   "name": "python",
   "nbconvert_exporter": "python",
   "pygments_lexer": "ipython3",
   "version": "3.10.9"
  }
 },
 "nbformat": 4,
 "nbformat_minor": 2
}
