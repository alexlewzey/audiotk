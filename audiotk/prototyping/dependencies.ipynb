{
 "cells": [
  {
   "cell_type": "code",
   "execution_count": null,
   "metadata": {},
   "outputs": [],
   "source": [
    "import sys\n",
    "import subprocess"
   ]
  },
  {
   "cell_type": "code",
   "execution_count": null,
   "metadata": {},
   "outputs": [],
   "source": [
    "def load_poetry_dependencies():\n",
    "    with open(\"../../pyproject.toml\") as file:\n",
    "        data = toml.load(file)\n",
    "    dependencies = data[\"tool\"][\"poetry\"][\"dependencies\"]\n",
    "    # Exclude python version dependency\n",
    "    del dependencies[\"python\"]\n",
    "    return [f\"{pkg}{ver}\" for pkg, ver in dependencies.items()]"
   ]
  },
  {
   "cell_type": "code",
   "execution_count": null,
   "metadata": {},
   "outputs": [],
   "source": [
    "load_poetry_dependencies()"
   ]
  },
  {
   "cell_type": "code",
   "execution_count": null,
   "metadata": {},
   "outputs": [],
   "source": [
    "if sys.platform == \"darwin\":\n",
    "    try:\n",
    "        subprocess.run([\"ffmpeg\", \"-version\"], check=True, stdout=subprocess.PIPE)\n",
    "    except subprocess.CalledProcessError:\n",
    "        print(\n",
    "            \"ffmpeg is required to run this app on mac. Please install ffmpeg: brew install ffmpeg\"\n",
    "        )\n",
    "        sys.exit(1)"
   ]
  },
  {
   "cell_type": "code",
   "execution_count": null,
   "metadata": {},
   "outputs": [],
   "source": []
  }
 ],
 "metadata": {
  "kernelspec": {
   "display_name": ".venv",
   "language": "python",
   "name": "python3"
  },
  "language_info": {
   "codemirror_mode": {
    "name": "ipython",
    "version": 3
   },
   "file_extension": ".py",
   "mimetype": "text/x-python",
   "name": "python",
   "nbconvert_exporter": "python",
   "pygments_lexer": "ipython3",
   "version": "3.10.9"
  }
 },
 "nbformat": 4,
 "nbformat_minor": 2
}
